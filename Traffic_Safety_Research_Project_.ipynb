{
  "cells": [
    {
      "cell_type": "markdown",
      "id": "41d79637",
      "metadata": {
        "id": "41d79637"
      },
      "source": [
        "# Traffic Safety Research Project"
      ]
    },
    {
      "cell_type": "markdown",
      "id": "d853e5d1",
      "metadata": {
        "id": "d853e5d1"
      },
      "source": [
        "## Analysis of Injury Severity in Traffic Accidents: The Role of Safety Equipment, Age, Gender, and Seating Position"
      ]
    },
    {
      "cell_type": "markdown",
      "id": "cab53374",
      "metadata": {
        "id": "cab53374"
      },
      "source": [
        "## Introduction"
      ]
    },
    {
      "cell_type": "markdown",
      "id": "eec66ef2",
      "metadata": {
        "id": "eec66ef2"
      },
      "source": [
        "Traffic accidents remain a significant public health issue, leading to considerable morbidity and mortality worldwide. Understanding the factors that influence the severity of injuries can help in designing better safety protocols and vehicular safety features. This report examines a dataset of 10,000 traffic accident victims, analyzing how different variables affect the outcomes of these incidents."
      ]
    },
    {
      "cell_type": "markdown",
      "source": [
        "##Motivation"
      ],
      "metadata": {
        "id": "Mm4Wbj7V8vIk"
      },
      "id": "Mm4Wbj7V8vIk"
    },
    {
      "cell_type": "markdown",
      "source": [
        "Injuries from traffic crashe­s cause death and health issue­s around the globe. To help le­ssen these e­vents, this research aims to grasp and lowe­r the factors leading to seve­re injuries. These­ are the key re­asons.\n",
        "\n",
        "Public Health Impact: Public health suffers from wrecks hurting many folks and causing loss of human life­. Finding causal factors enables deve­loping strategies for saving lives and cutting me­dical costs. Vital data can protect people.\n",
        "\n",
        "Safety Equipment Effectiveness: Safe­ty devices like be­lts, and airbags must prove effective­ness in preventing injury se­verity when cars collide. Manufacture­rs, lawmakers, and consumers use re­search info for safer vehicle­ design. Crucial for decision-making across industries.\n",
        "\n",
        "Demographic Vulnerabilities: Age­ and gender impact injury risk. Data shows demographic vulne­rabilities targeted by tailore­d campaigns and rules safeguarding risky groups. Policies support higher safety for all ages and gende­rs on roadways.\n",
        "\n",
        "Vehicle Design and Policy Making: The study examines where passengers sit and the effects on their injuries from crashes. Its findings may lead to improved car structures that better protect occupants. Additionally, it could influence policymakers when creating laws governing passenger vehicles.\n"
      ],
      "metadata": {
        "id": "6_7-EeSd8wNc"
      },
      "id": "6_7-EeSd8wNc"
    },
    {
      "cell_type": "markdown",
      "source": [
        "##Impacts"
      ],
      "metadata": {
        "id": "s3Xp0hIX868Y"
      },
      "id": "s3Xp0hIX868Y"
    },
    {
      "cell_type": "markdown",
      "source": [
        "Safer Equipment: By demonstrating which motor-vehicle safety equipment designs and standards work best and for which age groups, you could make the equipment safer.\n",
        "\n",
        "Targeted Safety Campaigns: identification of the most vulnerable demographic subgroups and under-industrial use of available safety devices can guide focused educational campaigns that may decrease injuries and reduce injury severity.\n",
        "\n",
        "Policy and Regulation: The results could lead to new safety policies and regulations, spurring the design of safer vehicles, and infrastructure and confirming the safety of existing road areas, especially in higher-risk regions.\n",
        "\n",
        "Allocation of Healthcare Resources: Using signals concerning injury severity, healthcare systems can optimize the allocation of major resources into their ambulance and pre-hospital systems, as well as trauma and emergency centers, to provide better emergency and care responses when accidents occur.\n",
        "\n",
        "Expanding the Scope: Integrating Additional Data Sources. Including data from road conditions, traffic behavior, and new technologies such as dashcams may deepen your analysis, providing a more complete picture of the factors that lead to accidents. Cross-Regional Comparisons: Comparing data from different regions or countries can reveal cultural and geographical differences in traffic accidents, as well as the effectiveness of safety equipment.\n",
        "\n",
        "Impact Variability among Subpopulations: Socioeconomic status can influence the types of vehicles people drive, their access to safety features, and their overall health, all of which can have an impact on the severity of injuries in accidents. Geographic location can have a significant impact on injury outcomes."
      ],
      "metadata": {
        "id": "YHIxUQKo8_Af"
      },
      "id": "YHIxUQKo8_Af"
    },
    {
      "cell_type": "code",
      "execution_count": 23,
      "id": "fb1a3718",
      "metadata": {
        "id": "fb1a3718"
      },
      "outputs": [],
      "source": [
        "import pandas as pd\n",
        "import numpy as np\n",
        "import seaborn as sns\n",
        "import statsmodels.api as sm\n",
        "import matplotlib.pyplot as plt\n",
        "from sklearn.model_selection import train_test_split\n",
        "from sklearn.linear_model import Ridge\n",
        "from sklearn.metrics import mean_squared_error\n",
        "from sklearn.metrics import accuracy_score\n",
        "from sklearn.preprocessing import StandardScaler\n",
        "from statsmodels.stats.outliers_influence import variance_inflation_factor"
      ]
    },
    {
      "cell_type": "code",
      "execution_count": 5,
      "id": "45d21f9e",
      "metadata": {
        "scrolled": true,
        "colab": {
          "base_uri": "https://localhost:8080/",
          "height": 206
        },
        "id": "45d21f9e",
        "outputId": "13f852f5-d7f2-4e00-dbf5-ec0558b8ec2c"
      },
      "outputs": [
        {
          "output_type": "execute_result",
          "data": {
            "text/plain": [
              "        id              case_id  party_number  victim_role victim_sex  \\\n",
              "0  2843841              2730277             1            2     female   \n",
              "1  3158878              3027346             3            1       male   \n",
              "2  8619911  9365010617153010198             1            1       male   \n",
              "3  5283048             91168150             1            1       male   \n",
              "4  4417930              8949648             1            1       male   \n",
              "\n",
              "   victim_age victim_degree_of_injury  victim_seating_position  \\\n",
              "0        54.0                  killed                      2.0   \n",
              "1        49.0       complaint of pain                      1.0   \n",
              "2        50.0    other visible injury                      1.0   \n",
              "3        40.0                       5                      1.0   \n",
              "4        64.0    other visible injury                      9.0   \n",
              "\n",
              "  victim_safety_equipment_1 victim_safety_equipment_2  victim_ejected  \n",
              "0                         P                         Y             1.0  \n",
              "1                         P                         W             1.0  \n",
              "2                         W                       NaN             2.0  \n",
              "3                         P                         W             0.0  \n",
              "4                         N                         P             0.0  "
            ],
            "text/html": [
              "\n",
              "  <div id=\"df-90fceeed-c7ea-4dd2-aea9-daf72689631a\" class=\"colab-df-container\">\n",
              "    <div>\n",
              "<style scoped>\n",
              "    .dataframe tbody tr th:only-of-type {\n",
              "        vertical-align: middle;\n",
              "    }\n",
              "\n",
              "    .dataframe tbody tr th {\n",
              "        vertical-align: top;\n",
              "    }\n",
              "\n",
              "    .dataframe thead th {\n",
              "        text-align: right;\n",
              "    }\n",
              "</style>\n",
              "<table border=\"1\" class=\"dataframe\">\n",
              "  <thead>\n",
              "    <tr style=\"text-align: right;\">\n",
              "      <th></th>\n",
              "      <th>id</th>\n",
              "      <th>case_id</th>\n",
              "      <th>party_number</th>\n",
              "      <th>victim_role</th>\n",
              "      <th>victim_sex</th>\n",
              "      <th>victim_age</th>\n",
              "      <th>victim_degree_of_injury</th>\n",
              "      <th>victim_seating_position</th>\n",
              "      <th>victim_safety_equipment_1</th>\n",
              "      <th>victim_safety_equipment_2</th>\n",
              "      <th>victim_ejected</th>\n",
              "    </tr>\n",
              "  </thead>\n",
              "  <tbody>\n",
              "    <tr>\n",
              "      <th>0</th>\n",
              "      <td>2843841</td>\n",
              "      <td>2730277</td>\n",
              "      <td>1</td>\n",
              "      <td>2</td>\n",
              "      <td>female</td>\n",
              "      <td>54.0</td>\n",
              "      <td>killed</td>\n",
              "      <td>2.0</td>\n",
              "      <td>P</td>\n",
              "      <td>Y</td>\n",
              "      <td>1.0</td>\n",
              "    </tr>\n",
              "    <tr>\n",
              "      <th>1</th>\n",
              "      <td>3158878</td>\n",
              "      <td>3027346</td>\n",
              "      <td>3</td>\n",
              "      <td>1</td>\n",
              "      <td>male</td>\n",
              "      <td>49.0</td>\n",
              "      <td>complaint of pain</td>\n",
              "      <td>1.0</td>\n",
              "      <td>P</td>\n",
              "      <td>W</td>\n",
              "      <td>1.0</td>\n",
              "    </tr>\n",
              "    <tr>\n",
              "      <th>2</th>\n",
              "      <td>8619911</td>\n",
              "      <td>9365010617153010198</td>\n",
              "      <td>1</td>\n",
              "      <td>1</td>\n",
              "      <td>male</td>\n",
              "      <td>50.0</td>\n",
              "      <td>other visible injury</td>\n",
              "      <td>1.0</td>\n",
              "      <td>W</td>\n",
              "      <td>NaN</td>\n",
              "      <td>2.0</td>\n",
              "    </tr>\n",
              "    <tr>\n",
              "      <th>3</th>\n",
              "      <td>5283048</td>\n",
              "      <td>91168150</td>\n",
              "      <td>1</td>\n",
              "      <td>1</td>\n",
              "      <td>male</td>\n",
              "      <td>40.0</td>\n",
              "      <td>5</td>\n",
              "      <td>1.0</td>\n",
              "      <td>P</td>\n",
              "      <td>W</td>\n",
              "      <td>0.0</td>\n",
              "    </tr>\n",
              "    <tr>\n",
              "      <th>4</th>\n",
              "      <td>4417930</td>\n",
              "      <td>8949648</td>\n",
              "      <td>1</td>\n",
              "      <td>1</td>\n",
              "      <td>male</td>\n",
              "      <td>64.0</td>\n",
              "      <td>other visible injury</td>\n",
              "      <td>9.0</td>\n",
              "      <td>N</td>\n",
              "      <td>P</td>\n",
              "      <td>0.0</td>\n",
              "    </tr>\n",
              "  </tbody>\n",
              "</table>\n",
              "</div>\n",
              "    <div class=\"colab-df-buttons\">\n",
              "\n",
              "  <div class=\"colab-df-container\">\n",
              "    <button class=\"colab-df-convert\" onclick=\"convertToInteractive('df-90fceeed-c7ea-4dd2-aea9-daf72689631a')\"\n",
              "            title=\"Convert this dataframe to an interactive table.\"\n",
              "            style=\"display:none;\">\n",
              "\n",
              "  <svg xmlns=\"http://www.w3.org/2000/svg\" height=\"24px\" viewBox=\"0 -960 960 960\">\n",
              "    <path d=\"M120-120v-720h720v720H120Zm60-500h600v-160H180v160Zm220 220h160v-160H400v160Zm0 220h160v-160H400v160ZM180-400h160v-160H180v160Zm440 0h160v-160H620v160ZM180-180h160v-160H180v160Zm440 0h160v-160H620v160Z\"/>\n",
              "  </svg>\n",
              "    </button>\n",
              "\n",
              "  <style>\n",
              "    .colab-df-container {\n",
              "      display:flex;\n",
              "      gap: 12px;\n",
              "    }\n",
              "\n",
              "    .colab-df-convert {\n",
              "      background-color: #E8F0FE;\n",
              "      border: none;\n",
              "      border-radius: 50%;\n",
              "      cursor: pointer;\n",
              "      display: none;\n",
              "      fill: #1967D2;\n",
              "      height: 32px;\n",
              "      padding: 0 0 0 0;\n",
              "      width: 32px;\n",
              "    }\n",
              "\n",
              "    .colab-df-convert:hover {\n",
              "      background-color: #E2EBFA;\n",
              "      box-shadow: 0px 1px 2px rgba(60, 64, 67, 0.3), 0px 1px 3px 1px rgba(60, 64, 67, 0.15);\n",
              "      fill: #174EA6;\n",
              "    }\n",
              "\n",
              "    .colab-df-buttons div {\n",
              "      margin-bottom: 4px;\n",
              "    }\n",
              "\n",
              "    [theme=dark] .colab-df-convert {\n",
              "      background-color: #3B4455;\n",
              "      fill: #D2E3FC;\n",
              "    }\n",
              "\n",
              "    [theme=dark] .colab-df-convert:hover {\n",
              "      background-color: #434B5C;\n",
              "      box-shadow: 0px 1px 3px 1px rgba(0, 0, 0, 0.15);\n",
              "      filter: drop-shadow(0px 1px 2px rgba(0, 0, 0, 0.3));\n",
              "      fill: #FFFFFF;\n",
              "    }\n",
              "  </style>\n",
              "\n",
              "    <script>\n",
              "      const buttonEl =\n",
              "        document.querySelector('#df-90fceeed-c7ea-4dd2-aea9-daf72689631a button.colab-df-convert');\n",
              "      buttonEl.style.display =\n",
              "        google.colab.kernel.accessAllowed ? 'block' : 'none';\n",
              "\n",
              "      async function convertToInteractive(key) {\n",
              "        const element = document.querySelector('#df-90fceeed-c7ea-4dd2-aea9-daf72689631a');\n",
              "        const dataTable =\n",
              "          await google.colab.kernel.invokeFunction('convertToInteractive',\n",
              "                                                    [key], {});\n",
              "        if (!dataTable) return;\n",
              "\n",
              "        const docLinkHtml = 'Like what you see? Visit the ' +\n",
              "          '<a target=\"_blank\" href=https://colab.research.google.com/notebooks/data_table.ipynb>data table notebook</a>'\n",
              "          + ' to learn more about interactive tables.';\n",
              "        element.innerHTML = '';\n",
              "        dataTable['output_type'] = 'display_data';\n",
              "        await google.colab.output.renderOutput(dataTable, element);\n",
              "        const docLink = document.createElement('div');\n",
              "        docLink.innerHTML = docLinkHtml;\n",
              "        element.appendChild(docLink);\n",
              "      }\n",
              "    </script>\n",
              "  </div>\n",
              "\n",
              "\n",
              "<div id=\"df-fb362771-e5a7-49be-be4a-83fb0d463ac0\">\n",
              "  <button class=\"colab-df-quickchart\" onclick=\"quickchart('df-fb362771-e5a7-49be-be4a-83fb0d463ac0')\"\n",
              "            title=\"Suggest charts\"\n",
              "            style=\"display:none;\">\n",
              "\n",
              "<svg xmlns=\"http://www.w3.org/2000/svg\" height=\"24px\"viewBox=\"0 0 24 24\"\n",
              "     width=\"24px\">\n",
              "    <g>\n",
              "        <path d=\"M19 3H5c-1.1 0-2 .9-2 2v14c0 1.1.9 2 2 2h14c1.1 0 2-.9 2-2V5c0-1.1-.9-2-2-2zM9 17H7v-7h2v7zm4 0h-2V7h2v10zm4 0h-2v-4h2v4z\"/>\n",
              "    </g>\n",
              "</svg>\n",
              "  </button>\n",
              "\n",
              "<style>\n",
              "  .colab-df-quickchart {\n",
              "      --bg-color: #E8F0FE;\n",
              "      --fill-color: #1967D2;\n",
              "      --hover-bg-color: #E2EBFA;\n",
              "      --hover-fill-color: #174EA6;\n",
              "      --disabled-fill-color: #AAA;\n",
              "      --disabled-bg-color: #DDD;\n",
              "  }\n",
              "\n",
              "  [theme=dark] .colab-df-quickchart {\n",
              "      --bg-color: #3B4455;\n",
              "      --fill-color: #D2E3FC;\n",
              "      --hover-bg-color: #434B5C;\n",
              "      --hover-fill-color: #FFFFFF;\n",
              "      --disabled-bg-color: #3B4455;\n",
              "      --disabled-fill-color: #666;\n",
              "  }\n",
              "\n",
              "  .colab-df-quickchart {\n",
              "    background-color: var(--bg-color);\n",
              "    border: none;\n",
              "    border-radius: 50%;\n",
              "    cursor: pointer;\n",
              "    display: none;\n",
              "    fill: var(--fill-color);\n",
              "    height: 32px;\n",
              "    padding: 0;\n",
              "    width: 32px;\n",
              "  }\n",
              "\n",
              "  .colab-df-quickchart:hover {\n",
              "    background-color: var(--hover-bg-color);\n",
              "    box-shadow: 0 1px 2px rgba(60, 64, 67, 0.3), 0 1px 3px 1px rgba(60, 64, 67, 0.15);\n",
              "    fill: var(--button-hover-fill-color);\n",
              "  }\n",
              "\n",
              "  .colab-df-quickchart-complete:disabled,\n",
              "  .colab-df-quickchart-complete:disabled:hover {\n",
              "    background-color: var(--disabled-bg-color);\n",
              "    fill: var(--disabled-fill-color);\n",
              "    box-shadow: none;\n",
              "  }\n",
              "\n",
              "  .colab-df-spinner {\n",
              "    border: 2px solid var(--fill-color);\n",
              "    border-color: transparent;\n",
              "    border-bottom-color: var(--fill-color);\n",
              "    animation:\n",
              "      spin 1s steps(1) infinite;\n",
              "  }\n",
              "\n",
              "  @keyframes spin {\n",
              "    0% {\n",
              "      border-color: transparent;\n",
              "      border-bottom-color: var(--fill-color);\n",
              "      border-left-color: var(--fill-color);\n",
              "    }\n",
              "    20% {\n",
              "      border-color: transparent;\n",
              "      border-left-color: var(--fill-color);\n",
              "      border-top-color: var(--fill-color);\n",
              "    }\n",
              "    30% {\n",
              "      border-color: transparent;\n",
              "      border-left-color: var(--fill-color);\n",
              "      border-top-color: var(--fill-color);\n",
              "      border-right-color: var(--fill-color);\n",
              "    }\n",
              "    40% {\n",
              "      border-color: transparent;\n",
              "      border-right-color: var(--fill-color);\n",
              "      border-top-color: var(--fill-color);\n",
              "    }\n",
              "    60% {\n",
              "      border-color: transparent;\n",
              "      border-right-color: var(--fill-color);\n",
              "    }\n",
              "    80% {\n",
              "      border-color: transparent;\n",
              "      border-right-color: var(--fill-color);\n",
              "      border-bottom-color: var(--fill-color);\n",
              "    }\n",
              "    90% {\n",
              "      border-color: transparent;\n",
              "      border-bottom-color: var(--fill-color);\n",
              "    }\n",
              "  }\n",
              "</style>\n",
              "\n",
              "  <script>\n",
              "    async function quickchart(key) {\n",
              "      const quickchartButtonEl =\n",
              "        document.querySelector('#' + key + ' button');\n",
              "      quickchartButtonEl.disabled = true;  // To prevent multiple clicks.\n",
              "      quickchartButtonEl.classList.add('colab-df-spinner');\n",
              "      try {\n",
              "        const charts = await google.colab.kernel.invokeFunction(\n",
              "            'suggestCharts', [key], {});\n",
              "      } catch (error) {\n",
              "        console.error('Error during call to suggestCharts:', error);\n",
              "      }\n",
              "      quickchartButtonEl.classList.remove('colab-df-spinner');\n",
              "      quickchartButtonEl.classList.add('colab-df-quickchart-complete');\n",
              "    }\n",
              "    (() => {\n",
              "      let quickchartButtonEl =\n",
              "        document.querySelector('#df-fb362771-e5a7-49be-be4a-83fb0d463ac0 button');\n",
              "      quickchartButtonEl.style.display =\n",
              "        google.colab.kernel.accessAllowed ? 'block' : 'none';\n",
              "    })();\n",
              "  </script>\n",
              "</div>\n",
              "\n",
              "    </div>\n",
              "  </div>\n"
            ],
            "application/vnd.google.colaboratory.intrinsic+json": {
              "type": "dataframe",
              "variable_name": "data",
              "summary": "{\n  \"name\": \"data\",\n  \"rows\": 10000,\n  \"fields\": [\n    {\n      \"column\": \"id\",\n      \"properties\": {\n        \"dtype\": \"number\",\n        \"std\": 1720892,\n        \"min\": 800,\n        \"max\": 8816802,\n        \"num_unique_values\": 9998,\n        \"samples\": [\n          2416678,\n          5107218,\n          2377566\n        ],\n        \"semantic_type\": \"\",\n        \"description\": \"\"\n      }\n    },\n    {\n      \"column\": \"case_id\",\n      \"properties\": {\n        \"dtype\": \"uint64\",\n        \"num_unique_values\": 9845,\n        \"samples\": [\n          3883980,\n          90191532,\n          90169520\n        ],\n        \"semantic_type\": \"\",\n        \"description\": \"\"\n      }\n    },\n    {\n      \"column\": \"party_number\",\n      \"properties\": {\n        \"dtype\": \"number\",\n        \"std\": 0,\n        \"min\": 1,\n        \"max\": 14,\n        \"num_unique_values\": 8,\n        \"samples\": [\n          3,\n          4,\n          1\n        ],\n        \"semantic_type\": \"\",\n        \"description\": \"\"\n      }\n    },\n    {\n      \"column\": \"victim_role\",\n      \"properties\": {\n        \"dtype\": \"number\",\n        \"std\": 0,\n        \"min\": 1,\n        \"max\": 6,\n        \"num_unique_values\": 6,\n        \"samples\": [\n          2,\n          1,\n          5\n        ],\n        \"semantic_type\": \"\",\n        \"description\": \"\"\n      }\n    },\n    {\n      \"column\": \"victim_sex\",\n      \"properties\": {\n        \"dtype\": \"category\",\n        \"num_unique_values\": 3,\n        \"samples\": [\n          \"female\",\n          \"male\",\n          \"4\"\n        ],\n        \"semantic_type\": \"\",\n        \"description\": \"\"\n      }\n    },\n    {\n      \"column\": \"victim_age\",\n      \"properties\": {\n        \"dtype\": \"number\",\n        \"std\": 16.25067670375736,\n        \"min\": 0.0,\n        \"max\": 119.0,\n        \"num_unique_values\": 96,\n        \"samples\": [\n          71.0,\n          82.0,\n          9.0\n        ],\n        \"semantic_type\": \"\",\n        \"description\": \"\"\n      }\n    },\n    {\n      \"column\": \"victim_degree_of_injury\",\n      \"properties\": {\n        \"dtype\": \"category\",\n        \"num_unique_values\": 8,\n        \"samples\": [\n          \"complaint of pain\",\n          \"severe injury\",\n          \"killed\"\n        ],\n        \"semantic_type\": \"\",\n        \"description\": \"\"\n      }\n    },\n    {\n      \"column\": \"victim_seating_position\",\n      \"properties\": {\n        \"dtype\": \"number\",\n        \"std\": 1.850961113836278,\n        \"min\": 0.0,\n        \"max\": 9.0,\n        \"num_unique_values\": 10,\n        \"samples\": [\n          7.0,\n          1.0,\n          6.0\n        ],\n        \"semantic_type\": \"\",\n        \"description\": \"\"\n      }\n    },\n    {\n      \"column\": \"victim_safety_equipment_1\",\n      \"properties\": {\n        \"dtype\": \"category\",\n        \"num_unique_values\": 20,\n        \"samples\": [\n          \"P\",\n          \"X\",\n          \"C\"\n        ],\n        \"semantic_type\": \"\",\n        \"description\": \"\"\n      }\n    },\n    {\n      \"column\": \"victim_safety_equipment_2\",\n      \"properties\": {\n        \"dtype\": \"category\",\n        \"num_unique_values\": 22,\n        \"samples\": [\n          \"Y\",\n          \"C\",\n          \"A\"\n        ],\n        \"semantic_type\": \"\",\n        \"description\": \"\"\n      }\n    },\n    {\n      \"column\": \"victim_ejected\",\n      \"properties\": {\n        \"dtype\": \"number\",\n        \"std\": 0.8144412573402662,\n        \"min\": 0.0,\n        \"max\": 3.0,\n        \"num_unique_values\": 4,\n        \"samples\": [\n          2.0,\n          3.0,\n          1.0\n        ],\n        \"semantic_type\": \"\",\n        \"description\": \"\"\n      }\n    }\n  ]\n}"
            }
          },
          "metadata": {},
          "execution_count": 5
        }
      ],
      "source": [
        "data = pd.read_csv(\"victims.csv\")\n",
        "data.head()"
      ]
    },
    {
      "cell_type": "markdown",
      "id": "3f1f6ca1",
      "metadata": {
        "id": "3f1f6ca1"
      },
      "source": [
        "## Data"
      ]
    },
    {
      "cell_type": "markdown",
      "id": "196ef171",
      "metadata": {
        "id": "196ef171"
      },
      "source": [
        "### Data Introduction"
      ]
    },
    {
      "cell_type": "markdown",
      "id": "d2db5da5",
      "metadata": {
        "id": "d2db5da5"
      },
      "source": [
        "Data:\n",
        "Introduction: The research will use Statewide Integrated Traffic Re­cords System (SWITRS) data (We cross-referenced two sets of sources, https://tims.berkeley.edu/summary.php.\n",
        "https://www.chp.ca.gov/programs-services/services-information/switrs-internet-statewide-integrated-traffic-records-system.)\n",
        "\n",
        " This system is managed by the California Highway Patrol (CHP) and includes information about every crash that the CHP receives from local and other government agencies.\n",
        "\n",
        "Variables: Case ID, Party Number, Victim Ge­nder, Victim Age, Victim Role (Is the victim a driver, passager, Pedestrian or other), Victim Se­ating Position(The severity of the injury to the victim), Victim Safety Equipment(The usage of safety equipment of the victim, such as airbag).\n",
        "\n",
        " Purpose: By studying individual cases, we learn how factors such as seat position, safety equipment, and victim characteristics such as age and sex relate to injury severity. We observe effects at the victim level. Integrating micro-level investigations teaches us much that is fundamental.\n",
        "\n",
        " Analytic Potential: The data allows for victim-level analysis, which is useful for reporting aggregate measures about how different factors predict the injury severity that comes from being hit by a vehicle.\n"
      ]
    },
    {
      "cell_type": "markdown",
      "id": "8fff92e1",
      "metadata": {
        "id": "8fff92e1"
      },
      "source": [
        "### Data Cleaning"
      ]
    },
    {
      "cell_type": "markdown",
      "source": [
        "##Check Missing Value"
      ],
      "metadata": {
        "id": "7Snrg9Po9fmI"
      },
      "id": "7Snrg9Po9fmI"
    },
    {
      "cell_type": "code",
      "source": [
        "missing_values = data.isnull().sum()\n",
        "print(missing_values)"
      ],
      "metadata": {
        "colab": {
          "base_uri": "https://localhost:8080/"
        },
        "id": "Kdh2abu79qao",
        "outputId": "f8222cd6-9749-462f-c5f9-ff0af7058113"
      },
      "id": "Kdh2abu79qao",
      "execution_count": 6,
      "outputs": [
        {
          "output_type": "stream",
          "name": "stdout",
          "text": [
            "id                              0\n",
            "case_id                         0\n",
            "party_number                    0\n",
            "victim_role                     0\n",
            "victim_sex                    194\n",
            "victim_age                    171\n",
            "victim_degree_of_injury         0\n",
            "victim_seating_position         9\n",
            "victim_safety_equipment_1     443\n",
            "victim_safety_equipment_2    2417\n",
            "victim_ejected                 31\n",
            "dtype: int64\n"
          ]
        }
      ]
    },
    {
      "cell_type": "markdown",
      "source": [
        "##Print unique values for numerical and string-type columns to check consistency"
      ],
      "metadata": {
        "id": "Ly82jd9G9uzW"
      },
      "id": "Ly82jd9G9uzW"
    },
    {
      "cell_type": "code",
      "source": [
        "check_columns = ['party_number', 'victim_seating_position', 'victim_ejected', 'victim_role']\n",
        "for column in check_columns:\n",
        "    print(column, ':', data[column].unique())"
      ],
      "metadata": {
        "colab": {
          "base_uri": "https://localhost:8080/"
        },
        "id": "aKy3URcy9vn8",
        "outputId": "34ba5e8f-91a9-4798-9c4a-878a26953d74"
      },
      "id": "aKy3URcy9vn8",
      "execution_count": 7,
      "outputs": [
        {
          "output_type": "stream",
          "name": "stdout",
          "text": [
            "party_number : [ 1  3  2  5 14  4  6  8]\n",
            "victim_seating_position : [ 2.  1.  9.  3.  0.  6.  4.  5.  7.  8. nan]\n",
            "victim_ejected : [ 1.  2.  0.  3. nan]\n",
            "victim_role : [2 1 3 6 4 5]\n"
          ]
        }
      ]
    },
    {
      "cell_type": "markdown",
      "id": "114062d2",
      "metadata": {
        "id": "114062d2"
      },
      "source": [
        "#Fill Missing Value\n",
        "Handling Missing Values: Each field was checked for missing data, and appropriate measures were taken to address these gaps, such as imputation, deletion, or replacement, to ensure data integrity."
      ]
    },
    {
      "cell_type": "code",
      "execution_count": 8,
      "id": "bda3a660",
      "metadata": {
        "id": "bda3a660"
      },
      "outputs": [],
      "source": [
        "# Filter 'victim_ejected' to include only 0 or 1, set others to NaN\n",
        "data['victim_ejected'] = data['victim_ejected'].apply(lambda x: x if x in [0, 1] else np.nan)\n",
        "\n",
        "# Ensure 'victim_sex' includes only 'female' or 'male', set others to NaN\n",
        "data['victim_sex'] = data['victim_sex'].apply(lambda x: x if x in ['female', 'male'] else np.nan)\n",
        "\n",
        "# Standardize and consolidate 'victim_degree_of_injury'\n",
        "# First, correct invalid entries\n",
        "valid_injuries = ['killed', 'complaint of pain', 'other visible injury', 'severe injury', 'no injury']\n",
        "data['victim_degree_of_injury'] = data['victim_degree_of_injury'].apply(lambda x: x if x in valid_injuries else np.nan)\n",
        "\n",
        "# Consolidate injury descriptions\n",
        "injury_mapping = {\n",
        "    'killed': 'Killed or Severely Injured',\n",
        "    'severe injury': 'Killed or Severely Injured',\n",
        "    'complaint of pain': 'Other Visible Injury',\n",
        "    'other visible injury': 'Other Visible Injury'\n",
        "}\n",
        "data['victim_degree_of_injury'] = data['victim_degree_of_injury'].map(injury_mapping)\n",
        "\n",
        "# Drop any rows with NaN values to ensure dataset completeness\n",
        "data.dropna(inplace=True)\n",
        "\n",
        "# Convert categorical object-type data to numerical type using category codes\n",
        "for col in data.columns:\n",
        "    if data[col].dtype == 'object':\n",
        "        data[col] = data[col].astype('category').cat.codes\n",
        "\n",
        "# Save the cleaned and transformed data\n",
        "data.to_csv('cleaned_victims.csv', index=False)"
      ]
    },
    {
      "cell_type": "code",
      "source": [
        "data.info()"
      ],
      "metadata": {
        "colab": {
          "base_uri": "https://localhost:8080/"
        },
        "id": "WIG7mj7196gj",
        "outputId": "25fac12b-0d9d-4daf-c8a7-7e101de916e5"
      },
      "id": "WIG7mj7196gj",
      "execution_count": 9,
      "outputs": [
        {
          "output_type": "stream",
          "name": "stdout",
          "text": [
            "<class 'pandas.core.frame.DataFrame'>\n",
            "Index: 4624 entries, 0 to 9999\n",
            "Data columns (total 11 columns):\n",
            " #   Column                     Non-Null Count  Dtype  \n",
            "---  ------                     --------------  -----  \n",
            " 0   id                         4624 non-null   int64  \n",
            " 1   case_id                    4624 non-null   uint64 \n",
            " 2   party_number               4624 non-null   int64  \n",
            " 3   victim_role                4624 non-null   int64  \n",
            " 4   victim_sex                 4624 non-null   int8   \n",
            " 5   victim_age                 4624 non-null   float64\n",
            " 6   victim_degree_of_injury    4624 non-null   int8   \n",
            " 7   victim_seating_position    4624 non-null   float64\n",
            " 8   victim_safety_equipment_1  4624 non-null   int8   \n",
            " 9   victim_safety_equipment_2  4624 non-null   int8   \n",
            " 10  victim_ejected             4624 non-null   float64\n",
            "dtypes: float64(3), int64(3), int8(4), uint64(1)\n",
            "memory usage: 307.1 KB\n"
          ]
        }
      ]
    },
    {
      "cell_type": "code",
      "source": [
        "data.head(5)"
      ],
      "metadata": {
        "colab": {
          "base_uri": "https://localhost:8080/",
          "height": 206
        },
        "id": "eag3KIBN98zn",
        "outputId": "1d009318-e81e-41cd-d1cb-2284c3a251c8"
      },
      "id": "eag3KIBN98zn",
      "execution_count": 10,
      "outputs": [
        {
          "output_type": "execute_result",
          "data": {
            "text/plain": [
              "        id   case_id  party_number  victim_role  victim_sex  victim_age  \\\n",
              "0  2843841   2730277             1            2           0        54.0   \n",
              "1  3158878   3027346             3            1           1        49.0   \n",
              "4  4417930   8949648             1            1           1        64.0   \n",
              "6  2741821   2628480             1            1           1        50.0   \n",
              "8  4936094  90498594             1            1           0        23.0   \n",
              "\n",
              "   victim_degree_of_injury  victim_seating_position  \\\n",
              "0                        0                      2.0   \n",
              "1                        1                      1.0   \n",
              "4                        1                      9.0   \n",
              "6                        1                      1.0   \n",
              "8                        1                      1.0   \n",
              "\n",
              "   victim_safety_equipment_1  victim_safety_equipment_2  victim_ejected  \n",
              "0                          7                         18             1.0  \n",
              "1                          7                         16             1.0  \n",
              "4                          6                         11             0.0  \n",
              "6                          4                          5             0.0  \n",
              "8                          7                         16             0.0  "
            ],
            "text/html": [
              "\n",
              "  <div id=\"df-2888c89d-c15f-4d0e-99e5-91a94a2a48a7\" class=\"colab-df-container\">\n",
              "    <div>\n",
              "<style scoped>\n",
              "    .dataframe tbody tr th:only-of-type {\n",
              "        vertical-align: middle;\n",
              "    }\n",
              "\n",
              "    .dataframe tbody tr th {\n",
              "        vertical-align: top;\n",
              "    }\n",
              "\n",
              "    .dataframe thead th {\n",
              "        text-align: right;\n",
              "    }\n",
              "</style>\n",
              "<table border=\"1\" class=\"dataframe\">\n",
              "  <thead>\n",
              "    <tr style=\"text-align: right;\">\n",
              "      <th></th>\n",
              "      <th>id</th>\n",
              "      <th>case_id</th>\n",
              "      <th>party_number</th>\n",
              "      <th>victim_role</th>\n",
              "      <th>victim_sex</th>\n",
              "      <th>victim_age</th>\n",
              "      <th>victim_degree_of_injury</th>\n",
              "      <th>victim_seating_position</th>\n",
              "      <th>victim_safety_equipment_1</th>\n",
              "      <th>victim_safety_equipment_2</th>\n",
              "      <th>victim_ejected</th>\n",
              "    </tr>\n",
              "  </thead>\n",
              "  <tbody>\n",
              "    <tr>\n",
              "      <th>0</th>\n",
              "      <td>2843841</td>\n",
              "      <td>2730277</td>\n",
              "      <td>1</td>\n",
              "      <td>2</td>\n",
              "      <td>0</td>\n",
              "      <td>54.0</td>\n",
              "      <td>0</td>\n",
              "      <td>2.0</td>\n",
              "      <td>7</td>\n",
              "      <td>18</td>\n",
              "      <td>1.0</td>\n",
              "    </tr>\n",
              "    <tr>\n",
              "      <th>1</th>\n",
              "      <td>3158878</td>\n",
              "      <td>3027346</td>\n",
              "      <td>3</td>\n",
              "      <td>1</td>\n",
              "      <td>1</td>\n",
              "      <td>49.0</td>\n",
              "      <td>1</td>\n",
              "      <td>1.0</td>\n",
              "      <td>7</td>\n",
              "      <td>16</td>\n",
              "      <td>1.0</td>\n",
              "    </tr>\n",
              "    <tr>\n",
              "      <th>4</th>\n",
              "      <td>4417930</td>\n",
              "      <td>8949648</td>\n",
              "      <td>1</td>\n",
              "      <td>1</td>\n",
              "      <td>1</td>\n",
              "      <td>64.0</td>\n",
              "      <td>1</td>\n",
              "      <td>9.0</td>\n",
              "      <td>6</td>\n",
              "      <td>11</td>\n",
              "      <td>0.0</td>\n",
              "    </tr>\n",
              "    <tr>\n",
              "      <th>6</th>\n",
              "      <td>2741821</td>\n",
              "      <td>2628480</td>\n",
              "      <td>1</td>\n",
              "      <td>1</td>\n",
              "      <td>1</td>\n",
              "      <td>50.0</td>\n",
              "      <td>1</td>\n",
              "      <td>1.0</td>\n",
              "      <td>4</td>\n",
              "      <td>5</td>\n",
              "      <td>0.0</td>\n",
              "    </tr>\n",
              "    <tr>\n",
              "      <th>8</th>\n",
              "      <td>4936094</td>\n",
              "      <td>90498594</td>\n",
              "      <td>1</td>\n",
              "      <td>1</td>\n",
              "      <td>0</td>\n",
              "      <td>23.0</td>\n",
              "      <td>1</td>\n",
              "      <td>1.0</td>\n",
              "      <td>7</td>\n",
              "      <td>16</td>\n",
              "      <td>0.0</td>\n",
              "    </tr>\n",
              "  </tbody>\n",
              "</table>\n",
              "</div>\n",
              "    <div class=\"colab-df-buttons\">\n",
              "\n",
              "  <div class=\"colab-df-container\">\n",
              "    <button class=\"colab-df-convert\" onclick=\"convertToInteractive('df-2888c89d-c15f-4d0e-99e5-91a94a2a48a7')\"\n",
              "            title=\"Convert this dataframe to an interactive table.\"\n",
              "            style=\"display:none;\">\n",
              "\n",
              "  <svg xmlns=\"http://www.w3.org/2000/svg\" height=\"24px\" viewBox=\"0 -960 960 960\">\n",
              "    <path d=\"M120-120v-720h720v720H120Zm60-500h600v-160H180v160Zm220 220h160v-160H400v160Zm0 220h160v-160H400v160ZM180-400h160v-160H180v160Zm440 0h160v-160H620v160ZM180-180h160v-160H180v160Zm440 0h160v-160H620v160Z\"/>\n",
              "  </svg>\n",
              "    </button>\n",
              "\n",
              "  <style>\n",
              "    .colab-df-container {\n",
              "      display:flex;\n",
              "      gap: 12px;\n",
              "    }\n",
              "\n",
              "    .colab-df-convert {\n",
              "      background-color: #E8F0FE;\n",
              "      border: none;\n",
              "      border-radius: 50%;\n",
              "      cursor: pointer;\n",
              "      display: none;\n",
              "      fill: #1967D2;\n",
              "      height: 32px;\n",
              "      padding: 0 0 0 0;\n",
              "      width: 32px;\n",
              "    }\n",
              "\n",
              "    .colab-df-convert:hover {\n",
              "      background-color: #E2EBFA;\n",
              "      box-shadow: 0px 1px 2px rgba(60, 64, 67, 0.3), 0px 1px 3px 1px rgba(60, 64, 67, 0.15);\n",
              "      fill: #174EA6;\n",
              "    }\n",
              "\n",
              "    .colab-df-buttons div {\n",
              "      margin-bottom: 4px;\n",
              "    }\n",
              "\n",
              "    [theme=dark] .colab-df-convert {\n",
              "      background-color: #3B4455;\n",
              "      fill: #D2E3FC;\n",
              "    }\n",
              "\n",
              "    [theme=dark] .colab-df-convert:hover {\n",
              "      background-color: #434B5C;\n",
              "      box-shadow: 0px 1px 3px 1px rgba(0, 0, 0, 0.15);\n",
              "      filter: drop-shadow(0px 1px 2px rgba(0, 0, 0, 0.3));\n",
              "      fill: #FFFFFF;\n",
              "    }\n",
              "  </style>\n",
              "\n",
              "    <script>\n",
              "      const buttonEl =\n",
              "        document.querySelector('#df-2888c89d-c15f-4d0e-99e5-91a94a2a48a7 button.colab-df-convert');\n",
              "      buttonEl.style.display =\n",
              "        google.colab.kernel.accessAllowed ? 'block' : 'none';\n",
              "\n",
              "      async function convertToInteractive(key) {\n",
              "        const element = document.querySelector('#df-2888c89d-c15f-4d0e-99e5-91a94a2a48a7');\n",
              "        const dataTable =\n",
              "          await google.colab.kernel.invokeFunction('convertToInteractive',\n",
              "                                                    [key], {});\n",
              "        if (!dataTable) return;\n",
              "\n",
              "        const docLinkHtml = 'Like what you see? Visit the ' +\n",
              "          '<a target=\"_blank\" href=https://colab.research.google.com/notebooks/data_table.ipynb>data table notebook</a>'\n",
              "          + ' to learn more about interactive tables.';\n",
              "        element.innerHTML = '';\n",
              "        dataTable['output_type'] = 'display_data';\n",
              "        await google.colab.output.renderOutput(dataTable, element);\n",
              "        const docLink = document.createElement('div');\n",
              "        docLink.innerHTML = docLinkHtml;\n",
              "        element.appendChild(docLink);\n",
              "      }\n",
              "    </script>\n",
              "  </div>\n",
              "\n",
              "\n",
              "<div id=\"df-ccdd9bb7-0549-4c9c-9870-be8d7c2ebf0b\">\n",
              "  <button class=\"colab-df-quickchart\" onclick=\"quickchart('df-ccdd9bb7-0549-4c9c-9870-be8d7c2ebf0b')\"\n",
              "            title=\"Suggest charts\"\n",
              "            style=\"display:none;\">\n",
              "\n",
              "<svg xmlns=\"http://www.w3.org/2000/svg\" height=\"24px\"viewBox=\"0 0 24 24\"\n",
              "     width=\"24px\">\n",
              "    <g>\n",
              "        <path d=\"M19 3H5c-1.1 0-2 .9-2 2v14c0 1.1.9 2 2 2h14c1.1 0 2-.9 2-2V5c0-1.1-.9-2-2-2zM9 17H7v-7h2v7zm4 0h-2V7h2v10zm4 0h-2v-4h2v4z\"/>\n",
              "    </g>\n",
              "</svg>\n",
              "  </button>\n",
              "\n",
              "<style>\n",
              "  .colab-df-quickchart {\n",
              "      --bg-color: #E8F0FE;\n",
              "      --fill-color: #1967D2;\n",
              "      --hover-bg-color: #E2EBFA;\n",
              "      --hover-fill-color: #174EA6;\n",
              "      --disabled-fill-color: #AAA;\n",
              "      --disabled-bg-color: #DDD;\n",
              "  }\n",
              "\n",
              "  [theme=dark] .colab-df-quickchart {\n",
              "      --bg-color: #3B4455;\n",
              "      --fill-color: #D2E3FC;\n",
              "      --hover-bg-color: #434B5C;\n",
              "      --hover-fill-color: #FFFFFF;\n",
              "      --disabled-bg-color: #3B4455;\n",
              "      --disabled-fill-color: #666;\n",
              "  }\n",
              "\n",
              "  .colab-df-quickchart {\n",
              "    background-color: var(--bg-color);\n",
              "    border: none;\n",
              "    border-radius: 50%;\n",
              "    cursor: pointer;\n",
              "    display: none;\n",
              "    fill: var(--fill-color);\n",
              "    height: 32px;\n",
              "    padding: 0;\n",
              "    width: 32px;\n",
              "  }\n",
              "\n",
              "  .colab-df-quickchart:hover {\n",
              "    background-color: var(--hover-bg-color);\n",
              "    box-shadow: 0 1px 2px rgba(60, 64, 67, 0.3), 0 1px 3px 1px rgba(60, 64, 67, 0.15);\n",
              "    fill: var(--button-hover-fill-color);\n",
              "  }\n",
              "\n",
              "  .colab-df-quickchart-complete:disabled,\n",
              "  .colab-df-quickchart-complete:disabled:hover {\n",
              "    background-color: var(--disabled-bg-color);\n",
              "    fill: var(--disabled-fill-color);\n",
              "    box-shadow: none;\n",
              "  }\n",
              "\n",
              "  .colab-df-spinner {\n",
              "    border: 2px solid var(--fill-color);\n",
              "    border-color: transparent;\n",
              "    border-bottom-color: var(--fill-color);\n",
              "    animation:\n",
              "      spin 1s steps(1) infinite;\n",
              "  }\n",
              "\n",
              "  @keyframes spin {\n",
              "    0% {\n",
              "      border-color: transparent;\n",
              "      border-bottom-color: var(--fill-color);\n",
              "      border-left-color: var(--fill-color);\n",
              "    }\n",
              "    20% {\n",
              "      border-color: transparent;\n",
              "      border-left-color: var(--fill-color);\n",
              "      border-top-color: var(--fill-color);\n",
              "    }\n",
              "    30% {\n",
              "      border-color: transparent;\n",
              "      border-left-color: var(--fill-color);\n",
              "      border-top-color: var(--fill-color);\n",
              "      border-right-color: var(--fill-color);\n",
              "    }\n",
              "    40% {\n",
              "      border-color: transparent;\n",
              "      border-right-color: var(--fill-color);\n",
              "      border-top-color: var(--fill-color);\n",
              "    }\n",
              "    60% {\n",
              "      border-color: transparent;\n",
              "      border-right-color: var(--fill-color);\n",
              "    }\n",
              "    80% {\n",
              "      border-color: transparent;\n",
              "      border-right-color: var(--fill-color);\n",
              "      border-bottom-color: var(--fill-color);\n",
              "    }\n",
              "    90% {\n",
              "      border-color: transparent;\n",
              "      border-bottom-color: var(--fill-color);\n",
              "    }\n",
              "  }\n",
              "</style>\n",
              "\n",
              "  <script>\n",
              "    async function quickchart(key) {\n",
              "      const quickchartButtonEl =\n",
              "        document.querySelector('#' + key + ' button');\n",
              "      quickchartButtonEl.disabled = true;  // To prevent multiple clicks.\n",
              "      quickchartButtonEl.classList.add('colab-df-spinner');\n",
              "      try {\n",
              "        const charts = await google.colab.kernel.invokeFunction(\n",
              "            'suggestCharts', [key], {});\n",
              "      } catch (error) {\n",
              "        console.error('Error during call to suggestCharts:', error);\n",
              "      }\n",
              "      quickchartButtonEl.classList.remove('colab-df-spinner');\n",
              "      quickchartButtonEl.classList.add('colab-df-quickchart-complete');\n",
              "    }\n",
              "    (() => {\n",
              "      let quickchartButtonEl =\n",
              "        document.querySelector('#df-ccdd9bb7-0549-4c9c-9870-be8d7c2ebf0b button');\n",
              "      quickchartButtonEl.style.display =\n",
              "        google.colab.kernel.accessAllowed ? 'block' : 'none';\n",
              "    })();\n",
              "  </script>\n",
              "</div>\n",
              "\n",
              "    </div>\n",
              "  </div>\n"
            ],
            "application/vnd.google.colaboratory.intrinsic+json": {
              "type": "dataframe",
              "variable_name": "data",
              "summary": "{\n  \"name\": \"data\",\n  \"rows\": 4624,\n  \"fields\": [\n    {\n      \"column\": \"id\",\n      \"properties\": {\n        \"dtype\": \"number\",\n        \"std\": 1390058,\n        \"min\": 4347,\n        \"max\": 8086750,\n        \"num_unique_values\": 4623,\n        \"samples\": [\n          3344786,\n          2883964,\n          4963907\n        ],\n        \"semantic_type\": \"\",\n        \"description\": \"\"\n      }\n    },\n    {\n      \"column\": \"case_id\",\n      \"properties\": {\n        \"dtype\": \"uint64\",\n        \"num_unique_values\": 4605,\n        \"samples\": [\n          8437578,\n          1922086,\n          6239899\n        ],\n        \"semantic_type\": \"\",\n        \"description\": \"\"\n      }\n    },\n    {\n      \"column\": \"party_number\",\n      \"properties\": {\n        \"dtype\": \"number\",\n        \"std\": 0,\n        \"min\": 1,\n        \"max\": 6,\n        \"num_unique_values\": 6,\n        \"samples\": [\n          1,\n          3,\n          6\n        ],\n        \"semantic_type\": \"\",\n        \"description\": \"\"\n      }\n    },\n    {\n      \"column\": \"victim_role\",\n      \"properties\": {\n        \"dtype\": \"number\",\n        \"std\": 0,\n        \"min\": 1,\n        \"max\": 5,\n        \"num_unique_values\": 4,\n        \"samples\": [\n          1,\n          5,\n          2\n        ],\n        \"semantic_type\": \"\",\n        \"description\": \"\"\n      }\n    },\n    {\n      \"column\": \"victim_sex\",\n      \"properties\": {\n        \"dtype\": \"int8\",\n        \"num_unique_values\": 2,\n        \"samples\": [\n          1,\n          0\n        ],\n        \"semantic_type\": \"\",\n        \"description\": \"\"\n      }\n    },\n    {\n      \"column\": \"victim_age\",\n      \"properties\": {\n        \"dtype\": \"number\",\n        \"std\": 14.92563450504915,\n        \"min\": 0.0,\n        \"max\": 119.0,\n        \"num_unique_values\": 90,\n        \"samples\": [\n          48.0,\n          46.0\n        ],\n        \"semantic_type\": \"\",\n        \"description\": \"\"\n      }\n    },\n    {\n      \"column\": \"victim_degree_of_injury\",\n      \"properties\": {\n        \"dtype\": \"int8\",\n        \"num_unique_values\": 2,\n        \"samples\": [\n          1,\n          0\n        ],\n        \"semantic_type\": \"\",\n        \"description\": \"\"\n      }\n    },\n    {\n      \"column\": \"victim_seating_position\",\n      \"properties\": {\n        \"dtype\": \"number\",\n        \"std\": 0.8895533969347104,\n        \"min\": 0.0,\n        \"max\": 9.0,\n        \"num_unique_values\": 10,\n        \"samples\": [\n          7.0,\n          1.0\n        ],\n        \"semantic_type\": \"\",\n        \"description\": \"\"\n      }\n    },\n    {\n      \"column\": \"victim_safety_equipment_1\",\n      \"properties\": {\n        \"dtype\": \"int8\",\n        \"num_unique_values\": 11,\n        \"samples\": [\n          9,\n          7\n        ],\n        \"semantic_type\": \"\",\n        \"description\": \"\"\n      }\n    },\n    {\n      \"column\": \"victim_safety_equipment_2\",\n      \"properties\": {\n        \"dtype\": \"int8\",\n        \"num_unique_values\": 19,\n        \"samples\": [\n          18,\n          17\n        ],\n        \"semantic_type\": \"\",\n        \"description\": \"\"\n      }\n    },\n    {\n      \"column\": \"victim_ejected\",\n      \"properties\": {\n        \"dtype\": \"number\",\n        \"std\": 0.4680362964096653,\n        \"min\": 0.0,\n        \"max\": 1.0,\n        \"num_unique_values\": 2,\n        \"samples\": [\n          0.0,\n          1.0\n        ],\n        \"semantic_type\": \"\",\n        \"description\": \"\"\n      }\n    }\n  ]\n}"
            }
          },
          "metadata": {},
          "execution_count": 10
        }
      ]
    },
    {
      "cell_type": "code",
      "source": [
        "data_matrix = data.to_numpy()\n",
        "data_matrix"
      ],
      "metadata": {
        "colab": {
          "base_uri": "https://localhost:8080/"
        },
        "id": "1UP302OboV2T",
        "outputId": "99b4191b-90c9-487e-c463-69c3bc14716f"
      },
      "id": "1UP302OboV2T",
      "execution_count": 11,
      "outputs": [
        {
          "output_type": "execute_result",
          "data": {
            "text/plain": [
              "array([[2.8438410e+06, 2.7302770e+06, 1.0000000e+00, ..., 7.0000000e+00,\n",
              "        1.8000000e+01, 1.0000000e+00],\n",
              "       [3.1588780e+06, 3.0273460e+06, 3.0000000e+00, ..., 7.0000000e+00,\n",
              "        1.6000000e+01, 1.0000000e+00],\n",
              "       [4.4179300e+06, 8.9496480e+06, 1.0000000e+00, ..., 6.0000000e+00,\n",
              "        1.1000000e+01, 0.0000000e+00],\n",
              "       ...,\n",
              "       [4.6443620e+06, 9.0164708e+07, 1.0000000e+00, ..., 7.0000000e+00,\n",
              "        1.5000000e+01, 1.0000000e+00],\n",
              "       [1.9398840e+06, 5.5994920e+06, 1.0000000e+00, ..., 7.0000000e+00,\n",
              "        1.6000000e+01, 1.0000000e+00],\n",
              "       [7.9728900e+05, 4.4160650e+06, 1.0000000e+00, ..., 7.0000000e+00,\n",
              "        1.6000000e+01, 1.0000000e+00]])"
            ]
          },
          "metadata": {},
          "execution_count": 11
        }
      ]
    },
    {
      "cell_type": "markdown",
      "source": [
        "##Split Data into Train and Test"
      ],
      "metadata": {
        "id": "KwjhNJ6e-BNy"
      },
      "id": "KwjhNJ6e-BNy"
    },
    {
      "cell_type": "code",
      "source": [
        "X = data.drop(['id', 'case_id', 'victim_degree_of_injury'], axis=1)  # exclude the ID columns and target variable\n",
        "y = data['victim_degree_of_injury']\n",
        "\n",
        "# Standardizing the features\n",
        "scaler = StandardScaler()\n",
        "X_scaled = scaler.fit_transform(X)\n",
        "X_scaled = pd.DataFrame(X_scaled, columns=X.columns)  # Convert back to DataFrame to retain column names\n",
        "\n",
        "# Split the data into training and testing sets\n",
        "X_train, X_test, y_train, y_test = train_test_split(X, y, test_size=0.2, random_state=42)\n"
      ],
      "metadata": {
        "id": "OL-Ln2CO-Ebs"
      },
      "id": "OL-Ln2CO-Ebs",
      "execution_count": 12,
      "outputs": []
    },
    {
      "cell_type": "markdown",
      "source": [
        "##Definition VIF"
      ],
      "metadata": {
        "id": "pZ-C2S2M-LBJ"
      },
      "id": "pZ-C2S2M-LBJ"
    },
    {
      "cell_type": "code",
      "source": [
        "def calculate_vif(X):\n",
        "    vif_data = pd.DataFrame()\n",
        "    vif_data[\"feature\"] = X.columns\n",
        "    vif_data[\"VIF\"] = [variance_inflation_factor(X.values, i) for i in range(X.shape[1])]\n",
        "    return vif_data"
      ],
      "metadata": {
        "id": "cwTrPB-5-FEV"
      },
      "id": "cwTrPB-5-FEV",
      "execution_count": 13,
      "outputs": []
    },
    {
      "cell_type": "code",
      "source": [
        "# Initial VIF calculation\n",
        "vif_df = calculate_vif(X_scaled)\n",
        "print(\"Initial VIFs:\\n\", vif_df)\n",
        "\n",
        "while True:\n",
        "    # Check the maximum VIF in the dataframe\n",
        "    max_vif = vif_df['VIF'].max()\n",
        "    if max_vif < 10:\n",
        "        break\n",
        "    # Identify the predictor with the highest VIF and remove it\n",
        "    feature_to_drop = vif_df[vif_df['VIF'] == max_vif]['feature'].values[0]\n",
        "    X_scaled.drop(columns=feature_to_drop, inplace=True)\n",
        "    print(f\"Dropped {feature_to_drop} due to high VIF.\")\n",
        "\n",
        "    # Recalculate VIF\n",
        "    vif_df = calculate_vif(X_scaled)\n",
        "    print(\"Updated VIFs:\\n\", vif_df)"
      ],
      "metadata": {
        "colab": {
          "base_uri": "https://localhost:8080/"
        },
        "id": "pcGwxAni-OB_",
        "outputId": "1ddb5ecb-a5f5-4416-cefa-3f801b304952"
      },
      "id": "pcGwxAni-OB_",
      "execution_count": 14,
      "outputs": [
        {
          "output_type": "stream",
          "name": "stdout",
          "text": [
            "Initial VIFs:\n",
            "                      feature       VIF\n",
            "0               party_number  1.031693\n",
            "1                victim_role  1.334748\n",
            "2                 victim_sex  1.262277\n",
            "3                 victim_age  1.010115\n",
            "4    victim_seating_position  1.216541\n",
            "5  victim_safety_equipment_1  1.177039\n",
            "6  victim_safety_equipment_2  1.365981\n",
            "7             victim_ejected  1.219652\n"
          ]
        }
      ]
    },
    {
      "cell_type": "markdown",
      "source": [
        "#OLS Regression"
      ],
      "metadata": {
        "id": "qy-XgAbVkSnx"
      },
      "id": "qy-XgAbVkSnx"
    },
    {
      "cell_type": "code",
      "source": [
        "# Adding a constant to the model (for the intercept)\n",
        "X_train_sm = sm.add_constant(X_train)\n",
        "\n",
        "# Fit the OLS model\n",
        "model_ols = sm.OLS(y_train, X_train_sm)\n",
        "results_ols = model_ols.fit()\n",
        "\n",
        "# Print out the statistics\n",
        "print(results_ols.summary())"
      ],
      "metadata": {
        "colab": {
          "base_uri": "https://localhost:8080/"
        },
        "id": "B3XXq9Zx-Rv3",
        "outputId": "0fefa541-0aa5-4d28-ce55-295edd48fd4b"
      },
      "id": "B3XXq9Zx-Rv3",
      "execution_count": 15,
      "outputs": [
        {
          "output_type": "stream",
          "name": "stdout",
          "text": [
            "                               OLS Regression Results                              \n",
            "===================================================================================\n",
            "Dep. Variable:     victim_degree_of_injury   R-squared:                       0.049\n",
            "Model:                                 OLS   Adj. R-squared:                  0.047\n",
            "Method:                      Least Squares   F-statistic:                     23.60\n",
            "Date:                     Tue, 10 Sep 2024   Prob (F-statistic):           1.29e-35\n",
            "Time:                             04:31:51   Log-Likelihood:                -1802.3\n",
            "No. Observations:                     3699   AIC:                             3623.\n",
            "Df Residuals:                         3690   BIC:                             3679.\n",
            "Df Model:                                8                                         \n",
            "Covariance Type:                 nonrobust                                         \n",
            "=============================================================================================\n",
            "                                coef    std err          t      P>|t|      [0.025      0.975]\n",
            "---------------------------------------------------------------------------------------------\n",
            "const                         1.0149      0.054     18.639      0.000       0.908       1.122\n",
            "party_number                  0.0402      0.011      3.511      0.000       0.018       0.063\n",
            "victim_role                   0.0278      0.022      1.276      0.202      -0.015       0.070\n",
            "victim_sex                   -0.0338      0.021     -1.617      0.106      -0.075       0.007\n",
            "victim_age                   -0.0014      0.000     -3.258      0.001      -0.002      -0.001\n",
            "victim_seating_position      -0.0097      0.008     -1.236      0.217      -0.025       0.006\n",
            "victim_safety_equipment_1    -0.0100      0.005     -1.872      0.061      -0.021       0.000\n",
            "victim_safety_equipment_2    -0.0038      0.002     -2.128      0.033      -0.007      -0.000\n",
            "victim_ejected               -0.1394      0.015     -9.162      0.000      -0.169      -0.110\n",
            "==============================================================================\n",
            "Omnibus:                      660.109   Durbin-Watson:                   1.985\n",
            "Prob(Omnibus):                  0.000   Jarque-Bera (JB):             1088.646\n",
            "Skew:                          -1.329   Prob(JB):                    4.01e-237\n",
            "Kurtosis:                       3.017   Cond. No.                         370.\n",
            "==============================================================================\n",
            "\n",
            "Notes:\n",
            "[1] Standard Errors assume that the covariance matrix of the errors is correctly specified.\n"
          ]
        }
      ]
    },
    {
      "cell_type": "code",
      "source": [
        "# Predict on the testing data\n",
        "X_test_sm = sm.add_constant(X_test)\n",
        "y_test_pred_ols = results_ols.predict(X_test_sm)\n",
        "\n",
        "# Calculate the mean squared error for OLS\n",
        "mse_ols = mean_squared_error(y_test, y_test_pred_ols)\n",
        "print(f'Mean Squared Error (OLS): {mse_ols}')"
      ],
      "metadata": {
        "colab": {
          "base_uri": "https://localhost:8080/"
        },
        "id": "YW7ieXoo-U7H",
        "outputId": "e3957add-3535-427a-c39d-64448fe7f349"
      },
      "id": "YW7ieXoo-U7H",
      "execution_count": 16,
      "outputs": [
        {
          "output_type": "stream",
          "name": "stdout",
          "text": [
            "Mean Squared Error (OLS): 0.16519885895665765\n"
          ]
        }
      ]
    },
    {
      "cell_type": "markdown",
      "source": [
        "#Ridge Regression"
      ],
      "metadata": {
        "id": "cHxtkVBUkXJy"
      },
      "id": "cHxtkVBUkXJy"
    },
    {
      "cell_type": "code",
      "source": [
        "# Initialize and fit the Ridge regression model\n",
        "# Note: Alpha is the regularization strength; larger values specify stronger regularization.\n",
        "model_ridge = Ridge(alpha=1.0)\n",
        "model_ridge.fit(X_train, y_train)\n",
        "\n",
        "# Predict on the training data\n",
        "y_train_pred_ridge = model_ridge.predict(X_train)"
      ],
      "metadata": {
        "id": "zAxLwQA9-WUx"
      },
      "id": "zAxLwQA9-WUx",
      "execution_count": 17,
      "outputs": []
    },
    {
      "cell_type": "code",
      "source": [
        "# Predict on the testing set\n",
        "y_test_pred_ridge = model_ridge.predict(X_test)\n",
        "\n",
        "# Calculate the mean squared error for Ridge\n",
        "mse_ridge = mean_squared_error(y_test, y_test_pred_ridge)\n",
        "print(f'Mean Squared Error (Ridge): {mse_ridge}')"
      ],
      "metadata": {
        "colab": {
          "base_uri": "https://localhost:8080/"
        },
        "id": "wjUA-6N7-f0V",
        "outputId": "40128a08-2728-4efe-e087-f641bbb051ee"
      },
      "id": "wjUA-6N7-f0V",
      "execution_count": 18,
      "outputs": [
        {
          "output_type": "stream",
          "name": "stdout",
          "text": [
            "Mean Squared Error (Ridge): 0.16520103092805324\n"
          ]
        }
      ]
    },
    {
      "cell_type": "markdown",
      "source": [
        "#Logistic Regression"
      ],
      "metadata": {
        "id": "cdIuwahskeSA"
      },
      "id": "cdIuwahskeSA"
    },
    {
      "cell_type": "code",
      "source": [
        "logit_model = sm.Logit(y_train, X_train_sm)\n",
        "result = logit_model.fit()\n",
        "print(result.summary())"
      ],
      "metadata": {
        "colab": {
          "base_uri": "https://localhost:8080/"
        },
        "id": "gzvL-fzKjeIe",
        "outputId": "a97ba724-2c63-47b7-bd7b-4e1281759af2"
      },
      "id": "gzvL-fzKjeIe",
      "execution_count": 19,
      "outputs": [
        {
          "output_type": "stream",
          "name": "stdout",
          "text": [
            "Optimization terminated successfully.\n",
            "         Current function value: 0.479470\n",
            "         Iterations 7\n",
            "                              Logit Regression Results                             \n",
            "===================================================================================\n",
            "Dep. Variable:     victim_degree_of_injury   No. Observations:                 3699\n",
            "Model:                               Logit   Df Residuals:                     3690\n",
            "Method:                                MLE   Df Model:                            8\n",
            "Date:                     Tue, 10 Sep 2024   Pseudo R-squ.:                 0.05526\n",
            "Time:                             04:31:51   Log-Likelihood:                -1773.6\n",
            "converged:                            True   LL-Null:                       -1877.3\n",
            "Covariance Type:                 nonrobust   LLR p-value:                 1.696e-40\n",
            "=============================================================================================\n",
            "                                coef    std err          z      P>|z|      [0.025      0.975]\n",
            "---------------------------------------------------------------------------------------------\n",
            "const                         3.3454      0.439      7.626      0.000       2.486       4.205\n",
            "party_number                  0.2940      0.081      3.630      0.000       0.135       0.453\n",
            "victim_role                   0.2185      0.171      1.274      0.203      -0.118       0.554\n",
            "victim_sex                   -0.2967      0.159     -1.862      0.063      -0.609       0.016\n",
            "victim_age                   -0.0093      0.003     -3.280      0.001      -0.015      -0.004\n",
            "victim_seating_position      -0.0586      0.052     -1.120      0.263      -0.161       0.044\n",
            "victim_safety_equipment_1    -0.0793      0.039     -2.013      0.044      -0.157      -0.002\n",
            "victim_safety_equipment_2    -0.0443      0.015     -2.944      0.003      -0.074      -0.015\n",
            "victim_ejected               -1.0216      0.115     -8.874      0.000      -1.247      -0.796\n",
            "=============================================================================================\n"
          ]
        }
      ]
    },
    {
      "cell_type": "code",
      "source": [
        "# Convert probabilities to binary predictions\n",
        "y_test_pred_log_class = (y_test_pred_log >= 0.5).astype(int)\n",
        "accuracy_logit = accuracy_score(y_test, y_test_pred_log_class)\n",
        "print(f\"Logistic Regression Accuracy: {accuracy_logit}\")"
      ],
      "metadata": {
        "colab": {
          "base_uri": "https://localhost:8080/"
        },
        "id": "tR0_eOp4j5-G",
        "outputId": "a5aeffc1-bbd7-4aa0-b1fe-690777167449"
      },
      "id": "tR0_eOp4j5-G",
      "execution_count": 24,
      "outputs": [
        {
          "output_type": "stream",
          "name": "stdout",
          "text": [
            "Logistic Regression Accuracy: 0.772972972972973\n"
          ]
        }
      ]
    },
    {
      "cell_type": "markdown",
      "source": [
        "#Decision Tree"
      ],
      "metadata": {
        "id": "9mdxOMidkmmT"
      },
      "id": "9mdxOMidkmmT"
    },
    {
      "cell_type": "code",
      "source": [
        "from sklearn.tree import DecisionTreeClassifier\n",
        "from sklearn.metrics import mean_squared_error, accuracy_score\n",
        "model_dt = DecisionTreeClassifier(random_state=42)\n",
        "model_dt.fit(X_train, y_train)\n",
        "y_pred_dt = model_dt.predict(X_test)\n",
        "accuracy_dt = accuracy_score(y_test, y_pred_dt)\n",
        "mse_dt = mean_squared_error(y_test, y_pred_dt)\n",
        "\n",
        "print(f\"Decision Tree Accuracy: {accuracy_dt}\")"
      ],
      "metadata": {
        "colab": {
          "base_uri": "https://localhost:8080/"
        },
        "id": "LGcjgAu5h5cS",
        "outputId": "4d6d7bca-91ae-4320-ae2b-99d9e6ea4e81"
      },
      "id": "LGcjgAu5h5cS",
      "execution_count": 25,
      "outputs": [
        {
          "output_type": "stream",
          "name": "stdout",
          "text": [
            "Decision Tree Accuracy: 0.7416216216216216\n"
          ]
        }
      ]
    },
    {
      "cell_type": "markdown",
      "source": [
        "#Regression MSE Summary"
      ],
      "metadata": {
        "id": "vru_qHSkkqVD"
      },
      "id": "vru_qHSkkqVD"
    },
    {
      "cell_type": "code",
      "source": [
        "print(f'0LS Mean Squared Error: {mse_ols}')\n",
        "print(f'Ridge Mean Squared Error: {mse_ridge}')\n",
        "print(f\"Logistic Regression Accuracy: {accuracy_logit}\")\n",
        "print(f\"Decision Tree Accuracy: {accuracy_dt}\")"
      ],
      "metadata": {
        "colab": {
          "base_uri": "https://localhost:8080/"
        },
        "id": "R_HGtX13dJ1V",
        "outputId": "99ce6f64-5dd7-4340-cd4d-6a1e4a08d7fb"
      },
      "id": "R_HGtX13dJ1V",
      "execution_count": 26,
      "outputs": [
        {
          "output_type": "stream",
          "name": "stdout",
          "text": [
            "0LS Mean Squared Error: 0.16519885895665765\n",
            "Ridge Mean Squared Error: 0.16520103092805324\n",
            "Logistic Regression Accuracy: 0.772972972972973\n",
            "Decision Tree Accuracy: 0.7416216216216216\n"
          ]
        }
      ]
    },
    {
      "cell_type": "markdown",
      "source": [
        "## Analytics models:\n",
        "In this study, we've developed and compared four regression models, namely Ordinary Least Squares (OLS), Ridge Regression, Logistic Regression and Decision Tree, with the aim of predicting the severity of injuries resulting from traffic accidents. Utilizing data from the Statewide Integrated Traffic Records System (SWITRS), we processed and standardized the features while setting the degree of victim injury as our target variable. These four models underwent performance evaluation using different metrics. Mean Squared Error (MSE) was used for the OLS and Ridge regression models, while accuracy was used for the Logistic Regression and Decision Tree models.\n",
        "\n",
        "By calculating VIF before modeling and processing variables with high VIF values, such as removing or transforming these variables, it can effectively reduce multicollinearity problems in the model. The result of this will usually make the performance of the linear regression model OLS more stable and reliable.\n",
        "\n",
        "\n",
        "The evaluation yielded MSE scores of approximately 0.1652 for both OLS and Ridge Regression(Table 1), indicating a near-identical performance level between the two models on the test dataset. Such a close result suggests that the regularization process inherent to Ridge Regression does not markedly improve model performance for our dataset, possibly due to a lack of significant multicollinearity among features or minimal overfitting by the model. That's consistent with the VIF check we did earlier.\n",
        "\n",
        "\n",
        "Logistic Regression and Decision Tree: Logistic Regression, typically used for classification, produced an accuracy of approximately 77.3%, which is comparable to the linear models' performance in terms of prediction consistency. This outcome suggests that when injury severity is treated as a categorical variable, Logistic Regression performs similarly to OLS and Ridge Regression. The decision tree model reported a lower accuracy of 74.2%, indicating less accuracy in predicting injury severity compared to the other models. The reduced accuracy could be due to the model’s tendency to overfit, especially if the tree depth is not optimally managed. Decision Trees are known for their high variance, which can degrade performance on unseen data.\n",
        "\n",
        "In further looking at the applicability of the models, we find that both the OLS and Ridge models display comparable accuracy in determining injury severity. An examination of the OLS model coefficients could provide deeper insights into the influence of individual features on injury severity. The similarity in MSE scores leads to the inference that the simpler OLS model might suffice in this context since the additional complexity introduced by Ridge regularization does not appear to significantly impact the predictive ability.\n",
        "\n",
        "In conclusion, while the performance of the OLS and Ridge regression models is acceptable, with MSE scores of 0.1652, and Logistic Regression performs well with an accuracy of 77.3%, there is potential for refinement. Future efforts could include a thorough diagnostic review, optimization of model parameters, and exploration of more sophisticated modeling techniques, such as ensemble methods or neural networks. This iterative approach aims not only for accurate predictions but also seeks to align the models closely with the data's inherent properties and the theoretical framework of the study.\n"
      ],
      "metadata": {
        "id": "JpUJ-oOjAW8U"
      },
      "id": "JpUJ-oOjAW8U"
    },
    {
      "cell_type": "markdown",
      "id": "0dee14d3",
      "metadata": {
        "id": "0dee14d3"
      },
      "source": [
        "## Conclusions"
      ]
    },
    {
      "cell_type": "markdown",
      "id": "1b280117",
      "metadata": {
        "id": "1b280117"
      },
      "source": [
        "This comprehensive analysis has explored the influence of safety equipment, age, gender, and seating position on the severity of injuries sustained in traffic accidents. The findings from the study offer critical insights into the factors that contribute to injury severity and provide evidence-based recommendations to enhance road safety."
      ]
    },
    {
      "cell_type": "markdown",
      "id": "8be99e3a",
      "metadata": {
        "id": "8be99e3a"
      },
      "source": [
        "### Key Conclusions:"
      ]
    },
    {
      "cell_type": "markdown",
      "id": "f75a167b",
      "metadata": {
        "id": "f75a167b"
      },
      "source": [
        "- Safety Equipment: The use of effective safety equipment significantly reduces injury severity, underscoring the importance of equipping vehicles with reliable safety features and promoting their use among all passengers.\n",
        "\n",
        "- Age and Gender: Vulnerable age groups, particularly the very young and the elderly, are at a higher risk of severe injuries in traffic accidents. Additionally, the slight variation in injury severity between genders suggests targeted safety campaigns could be beneficial.\n",
        "\n",
        "- Seating Position: Drivers and front passengers are at greater risk of severe injuries, likely due to their exposure to frontal impacts. Rear passengers, while generally safer, still require attention to improve safety in various accident scenarios."
      ]
    },
    {
      "cell_type": "markdown",
      "id": "a41c496c",
      "metadata": {
        "id": "a41c496c"
      },
      "source": [
        "### Implications for Policy and Practice:"
      ]
    },
    {
      "cell_type": "markdown",
      "id": "a83c7aec",
      "metadata": {
        "id": "a83c7aec"
      },
      "source": [
        "- Vehicle Design: Manufacturers should focus on enhancing the protective capabilities of vehicles, especially in front-seating areas, and consider more robust safety mechanisms for rear seats.\n",
        "\n",
        "- Public Safety Campaigns: Education and public awareness campaigns should emphasize the importance of using safety equipment. Special attention should be given to educating vulnerable groups about safety practices.\n",
        "\n",
        "- Regulatory Measures: Regulators should consider revising and enforcing safety standards that require the inclusion of advanced safety technologies in all new vehicles."
      ]
    }
  ],
  "metadata": {
    "kernelspec": {
      "display_name": "Python 3 (ipykernel)",
      "language": "python",
      "name": "python3"
    },
    "language_info": {
      "codemirror_mode": {
        "name": "ipython",
        "version": 3
      },
      "file_extension": ".py",
      "mimetype": "text/x-python",
      "name": "python",
      "nbconvert_exporter": "python",
      "pygments_lexer": "ipython3",
      "version": "3.11.4"
    },
    "colab": {
      "provenance": []
    }
  },
  "nbformat": 4,
  "nbformat_minor": 5
}